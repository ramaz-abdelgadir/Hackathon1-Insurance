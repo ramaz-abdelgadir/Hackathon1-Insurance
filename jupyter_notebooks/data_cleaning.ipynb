{
 "cells": [
  {
   "cell_type": "markdown",
   "id": "b1005654",
   "metadata": {},
   "source": [
    "# **Data cleaning**\n",
    "\n",
    "### Objectives\n",
    "- Clean the .csv raw data from Kaggle\n",
    "\n",
    "### Inputs\n",
    "- This file uses insurance.csv data located in the data/raw.\n",
    "\n",
    "### Outputs\n",
    "- The file will save the cleaned data into data/cleaned folder.\n"
   ]
  },
  {
   "cell_type": "markdown",
   "id": "e3301a17",
   "metadata": {},
   "source": [
    "## Load the libraries and the data\n",
    "\n",
    "First we need to load pandas for data manipulation. We will also import matplotlib to check the data distribution when needed."
   ]
  },
  {
   "cell_type": "code",
   "execution_count": 33,
   "id": "53c81c00",
   "metadata": {},
   "outputs": [],
   "source": [
    "import pandas as pd\n",
    "import matplotlib.pyplot as plt"
   ]
  },
  {
   "cell_type": "markdown",
   "id": "0cdd36a1",
   "metadata": {},
   "source": [
    "The data will be loaded as the variable insurance:"
   ]
  },
  {
   "cell_type": "code",
   "execution_count": 34,
   "id": "228d6cd6",
   "metadata": {},
   "outputs": [
    {
     "name": "stdout",
     "output_type": "stream",
     "text": [
      "(1338, 7)\n"
     ]
    },
    {
     "data": {
      "text/html": [
       "<div>\n",
       "<style scoped>\n",
       "    .dataframe tbody tr th:only-of-type {\n",
       "        vertical-align: middle;\n",
       "    }\n",
       "\n",
       "    .dataframe tbody tr th {\n",
       "        vertical-align: top;\n",
       "    }\n",
       "\n",
       "    .dataframe thead th {\n",
       "        text-align: right;\n",
       "    }\n",
       "</style>\n",
       "<table border=\"1\" class=\"dataframe\">\n",
       "  <thead>\n",
       "    <tr style=\"text-align: right;\">\n",
       "      <th></th>\n",
       "      <th>age</th>\n",
       "      <th>sex</th>\n",
       "      <th>bmi</th>\n",
       "      <th>children</th>\n",
       "      <th>smoker</th>\n",
       "      <th>region</th>\n",
       "      <th>charges</th>\n",
       "    </tr>\n",
       "  </thead>\n",
       "  <tbody>\n",
       "    <tr>\n",
       "      <th>0</th>\n",
       "      <td>19</td>\n",
       "      <td>female</td>\n",
       "      <td>27.900</td>\n",
       "      <td>0</td>\n",
       "      <td>yes</td>\n",
       "      <td>southwest</td>\n",
       "      <td>16884.92400</td>\n",
       "    </tr>\n",
       "    <tr>\n",
       "      <th>1</th>\n",
       "      <td>18</td>\n",
       "      <td>male</td>\n",
       "      <td>33.770</td>\n",
       "      <td>1</td>\n",
       "      <td>no</td>\n",
       "      <td>southeast</td>\n",
       "      <td>1725.55230</td>\n",
       "    </tr>\n",
       "    <tr>\n",
       "      <th>2</th>\n",
       "      <td>28</td>\n",
       "      <td>male</td>\n",
       "      <td>33.000</td>\n",
       "      <td>3</td>\n",
       "      <td>no</td>\n",
       "      <td>southeast</td>\n",
       "      <td>4449.46200</td>\n",
       "    </tr>\n",
       "    <tr>\n",
       "      <th>3</th>\n",
       "      <td>33</td>\n",
       "      <td>male</td>\n",
       "      <td>22.705</td>\n",
       "      <td>0</td>\n",
       "      <td>no</td>\n",
       "      <td>northwest</td>\n",
       "      <td>21984.47061</td>\n",
       "    </tr>\n",
       "    <tr>\n",
       "      <th>4</th>\n",
       "      <td>32</td>\n",
       "      <td>male</td>\n",
       "      <td>28.880</td>\n",
       "      <td>0</td>\n",
       "      <td>no</td>\n",
       "      <td>northwest</td>\n",
       "      <td>3866.85520</td>\n",
       "    </tr>\n",
       "  </tbody>\n",
       "</table>\n",
       "</div>"
      ],
      "text/plain": [
       "   age     sex     bmi  children smoker     region      charges\n",
       "0   19  female  27.900         0    yes  southwest  16884.92400\n",
       "1   18    male  33.770         1     no  southeast   1725.55230\n",
       "2   28    male  33.000         3     no  southeast   4449.46200\n",
       "3   33    male  22.705         0     no  northwest  21984.47061\n",
       "4   32    male  28.880         0     no  northwest   3866.85520"
      ]
     },
     "execution_count": 34,
     "metadata": {},
     "output_type": "execute_result"
    }
   ],
   "source": [
    "insurance = pd.read_csv(\"../data/raw/insurance.csv\")\n",
    "print(insurance.shape)\n",
    "insurance.head()"
   ]
  },
  {
   "cell_type": "markdown",
   "id": "21c18a59",
   "metadata": {},
   "source": [
    "### Check for null entries"
   ]
  },
  {
   "cell_type": "code",
   "execution_count": 35,
   "id": "62fe330a",
   "metadata": {},
   "outputs": [
    {
     "data": {
      "text/plain": [
       "age         0\n",
       "sex         0\n",
       "bmi         0\n",
       "children    0\n",
       "smoker      0\n",
       "region      0\n",
       "charges     0\n",
       "dtype: int64"
      ]
     },
     "execution_count": 35,
     "metadata": {},
     "output_type": "execute_result"
    }
   ],
   "source": [
    "insurance.isnull().sum()"
   ]
  },
  {
   "cell_type": "markdown",
   "id": "697b97fa",
   "metadata": {},
   "source": [
    "As you can see, all data is filled and there are no null values."
   ]
  },
  {
   "cell_type": "markdown",
   "id": "873e24d8",
   "metadata": {},
   "source": [
    "### Look into the categorical data\n",
    "Here I will look at different categorical variables in order to understand them better and to decide what to do with these variables in the data cleaning process."
   ]
  },
  {
   "cell_type": "code",
   "execution_count": 36,
   "id": "6f8e77fe",
   "metadata": {},
   "outputs": [
    {
     "data": {
      "text/plain": [
       "age           int64\n",
       "sex          object\n",
       "bmi         float64\n",
       "children      int64\n",
       "smoker       object\n",
       "region       object\n",
       "charges     float64\n",
       "dtype: object"
      ]
     },
     "execution_count": 36,
     "metadata": {},
     "output_type": "execute_result"
    }
   ],
   "source": [
    "insurance.dtypes"
   ]
  },
  {
   "cell_type": "markdown",
   "id": "c3d5d970",
   "metadata": {},
   "source": [
    "We have 3 categorical variables: `sex`, `smoker` and `region`. Let's look at the unique variables for each category:"
   ]
  },
  {
   "cell_type": "code",
   "execution_count": 37,
   "id": "34241d58",
   "metadata": {},
   "outputs": [
    {
     "name": "stdout",
     "output_type": "stream",
     "text": [
      "sex: ['female' 'male']\n",
      "smoker: ['yes' 'no']\n",
      "region: ['southwest' 'southeast' 'northwest' 'northeast']\n"
     ]
    }
   ],
   "source": [
    "print(f\"sex: {insurance['sex'].unique()}\")\n",
    "print(f\"smoker: {insurance['smoker'].unique()}\")\n",
    "print(f\"region: {insurance['region'].unique()}\")"
   ]
  },
  {
   "cell_type": "markdown",
   "id": "b2d29f69",
   "metadata": {},
   "source": [
    "As a bonus we might also check the unique variables for `children`, since we expect these to be whole numbers with only several unique possibilities:"
   ]
  },
  {
   "cell_type": "code",
   "execution_count": 38,
   "id": "7abae34f",
   "metadata": {},
   "outputs": [
    {
     "name": "stdout",
     "output_type": "stream",
     "text": [
      "children: [0 1 3 2 5 4]\n"
     ]
    }
   ],
   "source": [
    "print(f\"children: {insurance['children'].unique()}\")"
   ]
  },
  {
   "cell_type": "markdown",
   "id": "3040db50",
   "metadata": {},
   "source": [
    "All of the categories have few options and none of them seem anomalous, therefore there is no need to combine any of them. However we might change `smoker` to boolean to make the data lighter for the memory."
   ]
  },
  {
   "cell_type": "markdown",
   "id": "7254604c",
   "metadata": {},
   "source": [
    "## Data cleaning"
   ]
  },
  {
   "cell_type": "markdown",
   "id": "fd1d9103",
   "metadata": {},
   "source": [
    "### Change the data type of `smoker`\n",
    "This feature would be more efficient if it was stored as boolean."
   ]
  },
  {
   "cell_type": "code",
   "execution_count": 39,
   "id": "02eb5e27",
   "metadata": {},
   "outputs": [
    {
     "name": "stdout",
     "output_type": "stream",
     "text": [
      "smoker: ['yes' 'no']\n"
     ]
    }
   ],
   "source": [
    "print(f\"smoker: {insurance['smoker'].unique()}\")"
   ]
  },
  {
   "cell_type": "code",
   "execution_count": 40,
   "id": "73031d8b",
   "metadata": {},
   "outputs": [],
   "source": [
    "smoker_dict = {\n",
    "    'yes': True,\n",
    "    'no': False\n",
    "}\n",
    "\n",
    "insurance['smoker'].replace(to_replace=smoker_dict, inplace=True)"
   ]
  },
  {
   "cell_type": "markdown",
   "id": "038fb2ea",
   "metadata": {},
   "source": [
    "Now we check data types again to confirm the change:"
   ]
  },
  {
   "cell_type": "code",
   "execution_count": 41,
   "id": "33972683",
   "metadata": {},
   "outputs": [
    {
     "data": {
      "text/plain": [
       "age           int64\n",
       "sex          object\n",
       "bmi         float64\n",
       "children      int64\n",
       "smoker         bool\n",
       "region       object\n",
       "charges     float64\n",
       "dtype: object"
      ]
     },
     "execution_count": 41,
     "metadata": {},
     "output_type": "execute_result"
    }
   ],
   "source": [
    "insurance.dtypes"
   ]
  },
  {
   "cell_type": "markdown",
   "id": "62393a86",
   "metadata": {},
   "source": [
    "### Categorize continuous data into bins\n",
    "For the ease of visualization categorical data might be grouped into several bins or categories:\n",
    "- Age could be split into ranges.\n",
    "- BMI is usually split into the following categories: underweight (BMI less than 18.5), normal weight (18.5 to 24.9), overweight (25 to 29.9), and obesity (30 or more).\n",
    "- Charges might be grouped into tiers (e.g., Low, Medium, High), especially if the charges have a large range.\n",
    "\n",
    "It is important to make sure that each category has roughly the same amount of data, while also making categories reasonable."
   ]
  },
  {
   "cell_type": "markdown",
   "id": "87dd1152",
   "metadata": {},
   "source": [
    "#### Age categorization"
   ]
  },
  {
   "cell_type": "markdown",
   "id": "7fc1a545",
   "metadata": {},
   "source": [
    "Let's first check the maximum and minimum value of age:"
   ]
  },
  {
   "cell_type": "code",
   "execution_count": 42,
   "id": "aaf621a7",
   "metadata": {},
   "outputs": [
    {
     "name": "stdout",
     "output_type": "stream",
     "text": [
      "minimum age: 18\n",
      "maximum age: 64\n"
     ]
    }
   ],
   "source": [
    "print(f\"minimum age: {insurance['age'].min()}\")\n",
    "print(f\"maximum age: {insurance['age'].max()}\")"
   ]
  },
  {
   "cell_type": "markdown",
   "id": "0c30f249",
   "metadata": {},
   "source": [
    "We will try to split the age into 4 categories. we will try to go with:\n",
    "- 18-30\n",
    "- 31-45\n",
    "- 46-55\n",
    "- 56-64\n",
    "\n",
    "Now we will categorize age into bins:"
   ]
  },
  {
   "cell_type": "code",
   "execution_count": null,
   "id": "e9131695",
   "metadata": {},
   "outputs": [
    {
     "data": {
      "text/html": [
       "<div>\n",
       "<style scoped>\n",
       "    .dataframe tbody tr th:only-of-type {\n",
       "        vertical-align: middle;\n",
       "    }\n",
       "\n",
       "    .dataframe tbody tr th {\n",
       "        vertical-align: top;\n",
       "    }\n",
       "\n",
       "    .dataframe thead th {\n",
       "        text-align: right;\n",
       "    }\n",
       "</style>\n",
       "<table border=\"1\" class=\"dataframe\">\n",
       "  <thead>\n",
       "    <tr style=\"text-align: right;\">\n",
       "      <th></th>\n",
       "      <th>age</th>\n",
       "      <th>sex</th>\n",
       "      <th>bmi</th>\n",
       "      <th>children</th>\n",
       "      <th>smoker</th>\n",
       "      <th>region</th>\n",
       "      <th>charges</th>\n",
       "      <th>age_bracket</th>\n",
       "    </tr>\n",
       "  </thead>\n",
       "  <tbody>\n",
       "    <tr>\n",
       "      <th>0</th>\n",
       "      <td>19</td>\n",
       "      <td>female</td>\n",
       "      <td>27.900</td>\n",
       "      <td>0</td>\n",
       "      <td>True</td>\n",
       "      <td>southwest</td>\n",
       "      <td>16884.92400</td>\n",
       "      <td>18-30</td>\n",
       "    </tr>\n",
       "    <tr>\n",
       "      <th>1</th>\n",
       "      <td>18</td>\n",
       "      <td>male</td>\n",
       "      <td>33.770</td>\n",
       "      <td>1</td>\n",
       "      <td>False</td>\n",
       "      <td>southeast</td>\n",
       "      <td>1725.55230</td>\n",
       "      <td>18-30</td>\n",
       "    </tr>\n",
       "    <tr>\n",
       "      <th>2</th>\n",
       "      <td>28</td>\n",
       "      <td>male</td>\n",
       "      <td>33.000</td>\n",
       "      <td>3</td>\n",
       "      <td>False</td>\n",
       "      <td>southeast</td>\n",
       "      <td>4449.46200</td>\n",
       "      <td>18-30</td>\n",
       "    </tr>\n",
       "    <tr>\n",
       "      <th>3</th>\n",
       "      <td>33</td>\n",
       "      <td>male</td>\n",
       "      <td>22.705</td>\n",
       "      <td>0</td>\n",
       "      <td>False</td>\n",
       "      <td>northwest</td>\n",
       "      <td>21984.47061</td>\n",
       "      <td>31-45</td>\n",
       "    </tr>\n",
       "    <tr>\n",
       "      <th>4</th>\n",
       "      <td>32</td>\n",
       "      <td>male</td>\n",
       "      <td>28.880</td>\n",
       "      <td>0</td>\n",
       "      <td>False</td>\n",
       "      <td>northwest</td>\n",
       "      <td>3866.85520</td>\n",
       "      <td>31-45</td>\n",
       "    </tr>\n",
       "  </tbody>\n",
       "</table>\n",
       "</div>"
      ],
      "text/plain": [
       "   age     sex     bmi  children  smoker     region      charges age_bracket\n",
       "0   19  female  27.900         0    True  southwest  16884.92400       18-30\n",
       "1   18    male  33.770         1   False  southeast   1725.55230       18-30\n",
       "2   28    male  33.000         3   False  southeast   4449.46200       18-30\n",
       "3   33    male  22.705         0   False  northwest  21984.47061       31-45\n",
       "4   32    male  28.880         0   False  northwest   3866.85520       31-45"
      ]
     },
     "execution_count": 43,
     "metadata": {},
     "output_type": "execute_result"
    }
   ],
   "source": [
    "def age_categorization(age):\n",
    "    if age < 31:\n",
    "        return \"18-30\"\n",
    "    elif age < 46:\n",
    "        return \"31-45\"\n",
    "    elif age < 56:\n",
    "        return \"46-55\"\n",
    "    else:\n",
    "        return \"56+\"\n",
    "\n",
    "insurance['age_bracket'] = insurance['age'].apply(age_categorization)\n",
    "insurance.head()"
   ]
  },
  {
   "cell_type": "markdown",
   "id": "487a4cdc",
   "metadata": {},
   "source": [
    "Let's look at the age distribution to see if the bins have a reasonable distribution:"
   ]
  },
  {
   "cell_type": "code",
   "execution_count": 44,
   "id": "e723c522",
   "metadata": {},
   "outputs": [
    {
     "data": {
      "image/png": "[encoded data removed]",
      "text/plain": [
       "<Figure size 640x480 with 1 Axes>"
      ]
     },
     "metadata": {},
     "output_type": "display_data"
    }
   ],
   "source": [
    "plt.bar(x=insurance['age_bracket'].value_counts().index, height=insurance['age_bracket'].value_counts())\n",
    "plt.show()"
   ]
  },
  {
   "cell_type": "markdown",
   "id": "e9301154",
   "metadata": {},
   "source": [
    "Although not perfect, since categories are not equal, the distribution seem to be acceptable."
   ]
  },
  {
   "cell_type": "markdown",
   "id": "ee0bd70c",
   "metadata": {},
   "source": [
    "#### BMI categorization"
   ]
  },
  {
   "cell_type": "markdown",
   "id": "0ebead72",
   "metadata": {},
   "source": []
  }
 ],
 "metadata": {
  "kernelspec": {
   "display_name": ".venv",
   "language": "python",
   "name": "python3"
  },
  "language_info": {
   "codemirror_mode": {
    "name": "ipython",
    "version": 3
   },
   "file_extension": ".py",
   "mimetype": "text/x-python",
   "name": "python",
   "nbconvert_exporter": "python",
   "pygments_lexer": "ipython3",
   "version": "3.12.10"
  }
 },
 "nbformat": 4,
 "nbformat_minor": 5
}
