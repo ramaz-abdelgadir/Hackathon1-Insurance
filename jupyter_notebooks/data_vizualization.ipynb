{
 "cells": [
  {
   "cell_type": "markdown",
   "id": "4a24f1b7",
   "metadata": {},
   "source": [
    "\n",
    "# **Data Visualization**\n",
    "### Objectives\n",
    "- Read the cleaned data and visualize it in order to understand trends, correlations, and to understand which variables influence *insurance charges*.\n",
    "### Inputs\n",
    "- The file uses `insurance_cleaned.csv` text file located in the `data\\cleaned` folder.\n",
    "### Outputs\n",
    "- This notebook generates various plots and relies on `matplotlib`, `seaborn` and `plotly` to generate them."
   ]
  },
  {
   "cell_type": "markdown",
   "id": "d39b5a33",
   "metadata": {},
   "source": [
    "## Load the libraries and the data"
   ]
  },
  {
   "cell_type": "markdown",
   "id": "d9a9add0",
   "metadata": {},
   "source": []
  }
 ],
 "metadata": {
  "language_info": {
   "name": "python"
  }
 },
 "nbformat": 4,
 "nbformat_minor": 5
}
